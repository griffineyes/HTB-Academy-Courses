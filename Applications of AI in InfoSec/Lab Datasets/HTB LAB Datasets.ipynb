{
 "cells": [
  {
   "cell_type": "code",
   "execution_count": 1,
   "id": "107bd741-9633-4891-aa7f-deecfbd4d65d",
   "metadata": {},
   "outputs": [],
   "source": [
    "import pandas as pd\n",
    "\n",
    "# Load the dataset\n",
    "data = pd.read_csv(\"./demo_dataset.csv\")"
   ]
  },
  {
   "cell_type": "code",
   "execution_count": 2,
   "id": "f0c57f3b-203a-4439-9b6d-3f29c1492d6d",
   "metadata": {},
   "outputs": [
    {
     "name": "stdout",
     "output_type": "stream",
     "text": [
      "   log_id       source_ip destination_port protocol bytes_transferred  \\\n",
      "0      10      10.0.0.100      STRING_PORT      FTP              4096   \n",
      "1      12  172.16.254.100              110     POP3          NEGATIVE   \n",
      "2      27  172.16.254.200              110     POP3       NON_NUMERIC   \n",
      "3       1   192.168.1.100               80     HTTP              1024   \n",
      "4       2    192.168.1.81               53      TLS              9765   \n",
      "\n",
      "  threat_level  \n",
      "0            ?  \n",
      "1            1  \n",
      "2            1  \n",
      "3            0  \n",
      "4            0  \n"
     ]
    }
   ],
   "source": [
    "# Display the first few rows of the dataset\n",
    "print(data.head())"
   ]
  },
  {
   "cell_type": "code",
   "execution_count": 3,
   "id": "4089019e-e143-43ae-9466-b100ab4ef595",
   "metadata": {},
   "outputs": [
    {
     "name": "stdout",
     "output_type": "stream",
     "text": [
      "<class 'pandas.core.frame.DataFrame'>\n",
      "RangeIndex: 100 entries, 0 to 99\n",
      "Data columns (total 6 columns):\n",
      " #   Column             Non-Null Count  Dtype \n",
      "---  ------             --------------  ----- \n",
      " 0   log_id             100 non-null    int64 \n",
      " 1   source_ip          99 non-null     object\n",
      " 2   destination_port   99 non-null     object\n",
      " 3   protocol           100 non-null    object\n",
      " 4   bytes_transferred  100 non-null    object\n",
      " 5   threat_level       100 non-null    object\n",
      "dtypes: int64(1), object(5)\n",
      "memory usage: 4.8+ KB\n",
      "None\n"
     ]
    }
   ],
   "source": [
    "# Get a summary of column data types and non-null counts\n",
    "print(data.info())"
   ]
  },
  {
   "cell_type": "code",
   "execution_count": 4,
   "id": "d9f0e8a8-6d4a-489a-8ef4-a8070b2067bb",
   "metadata": {},
   "outputs": [
    {
     "name": "stdout",
     "output_type": "stream",
     "text": [
      "log_id               0\n",
      "source_ip            1\n",
      "destination_port     1\n",
      "protocol             0\n",
      "bytes_transferred    0\n",
      "threat_level         0\n",
      "dtype: int64\n"
     ]
    }
   ],
   "source": [
    "# Identify columns with missing values\n",
    "print(data.isnull().sum())"
   ]
  },
  {
   "cell_type": "code",
   "execution_count": 5,
   "id": "23d42900-46e2-4591-813b-d6610943d347",
   "metadata": {},
   "outputs": [
    {
     "name": "stdout",
     "output_type": "stream",
     "text": [
      "    log_id       source_ip destination_port protocol bytes_transferred  \\\n",
      "40      41      10.0.0.300               25     SMTP              4096   \n",
      "51      52    10.10.10.450      STRING_PORT      FTP              4096   \n",
      "55      56             NaN               53      DNS              1024   \n",
      "57      58   192.168.1.475              NaN      UDP              2048   \n",
      "63      64      MISSING_IP               53      DNS              1024   \n",
      "65      66   192.168.1.600      UNUSED_PORT      UDP              2048   \n",
      "71      72      MISSING_IP               53      DNS              1024   \n",
      "74      75    172.16.1.400               80     HTTP              1024   \n",
      "82      83    172.16.1.450               80     HTTP              1024   \n",
      "87      88      MISSING_IP               53      DNS              1024   \n",
      "88      89    10.10.10.700              443      TLS               512   \n",
      "92      93      INVALID_IP              110     POP3              4096   \n",
      "93      94  192.168.1.1050               53      DNS       NON_NUMERIC   \n",
      "95      96      MISSING_IP               25     SMTP              4096   \n",
      "97      98  192.168.1.1100      UNUSED_PORT      UDP              2048   \n",
      "\n",
      "   threat_level  \n",
      "40            0  \n",
      "51            ?  \n",
      "55            0  \n",
      "57            1  \n",
      "63            0  \n",
      "65            1  \n",
      "71            0  \n",
      "74            0  \n",
      "82            0  \n",
      "87            0  \n",
      "88            1  \n",
      "92            1  \n",
      "93            0  \n",
      "95            1  \n",
      "97            0  \n"
     ]
    }
   ],
   "source": [
    "import re\n",
    "\n",
    "def is_valid_ip(ip):\n",
    "    pattern = re.compile(r'^((25[0-5]|2[0-4][0-9]|[01]?[0-9][0-9]?)\\.){3}(25[0-5]|2[0-4][0-9]|[01]?[0-9][0-9]?)$')\n",
    "    return bool(pattern.match(ip))\n",
    "\n",
    "# Check for invalid IP addresses\n",
    "invalid_ips = data[~data['source_ip'].astype(str).apply(is_valid_ip)]\n",
    "print(invalid_ips)"
   ]
  },
  {
   "cell_type": "code",
   "execution_count": 6,
   "id": "2a14ed1b-531c-459a-866b-19e9d254db85",
   "metadata": {},
   "outputs": [
    {
     "name": "stdout",
     "output_type": "stream",
     "text": [
      "    log_id       source_ip destination_port protocol bytes_transferred  \\\n",
      "0       10      10.0.0.100      STRING_PORT      FTP              4096   \n",
      "34      35   192.168.1.200      STRING_PORT      FTP              4096   \n",
      "51      52    10.10.10.450      STRING_PORT      FTP              4096   \n",
      "57      58   192.168.1.475              NaN      UDP              2048   \n",
      "65      66   192.168.1.600      UNUSED_PORT      UDP              2048   \n",
      "67      68     10.10.10.77      STRING_PORT      FTP              4096   \n",
      "78      79   172.16.254.77           999999     HTTP              2048   \n",
      "97      98  192.168.1.1100      UNUSED_PORT      UDP              2048   \n",
      "\n",
      "   threat_level  \n",
      "0             ?  \n",
      "34            ?  \n",
      "51            ?  \n",
      "57            1  \n",
      "65            1  \n",
      "67            ?  \n",
      "78            1  \n",
      "97            0  \n"
     ]
    }
   ],
   "source": [
    "def is_valid_port(port):\n",
    "    try:\n",
    "        port = int(port)\n",
    "        return 0 <= port <= 65535\n",
    "    except ValueError:\n",
    "        return False\n",
    "\n",
    "# Check for invalid port numbers\n",
    "invalid_ports = data[~data['destination_port'].apply(is_valid_port)]\n",
    "print(invalid_ports)"
   ]
  },
  {
   "cell_type": "code",
   "execution_count": 7,
   "id": "fc188f70-c929-435f-b42e-a0f8b4d3d012",
   "metadata": {},
   "outputs": [
    {
     "name": "stdout",
     "output_type": "stream",
     "text": [
      "    log_id      source_ip destination_port protocol bytes_transferred  \\\n",
      "30      31  192.168.1.119              443  UNKNOWN              9513   \n",
      "80      81  192.168.1.224               25  UNKNOWN              1161   \n",
      "\n",
      "   threat_level  \n",
      "30            2  \n",
      "80            1  \n"
     ]
    }
   ],
   "source": [
    "valid_protocols = ['TCP', 'TLS', 'SSH', 'POP3', 'DNS', 'HTTPS', 'SMTP', 'FTP', 'UDP', 'HTTP']\n",
    "\n",
    "# Check for invalid protocol values\n",
    "invalid_protocols = data[~data['protocol'].isin(valid_protocols)]\n",
    "print(invalid_protocols)"
   ]
  },
  {
   "cell_type": "code",
   "execution_count": 8,
   "id": "63e6c9ed-1b54-494b-bbd4-bffc21188926",
   "metadata": {},
   "outputs": [
    {
     "name": "stdout",
     "output_type": "stream",
     "text": [
      "    log_id       source_ip destination_port protocol bytes_transferred  \\\n",
      "1       12  172.16.254.100              110     POP3          NEGATIVE   \n",
      "2       27  172.16.254.200              110     POP3       NON_NUMERIC   \n",
      "93      94  192.168.1.1050               53      DNS       NON_NUMERIC   \n",
      "\n",
      "   threat_level  \n",
      "1             1  \n",
      "2             1  \n",
      "93            0  \n"
     ]
    }
   ],
   "source": [
    "def is_valid_bytes(bytes):\n",
    "    try:\n",
    "        bytes = int(bytes)\n",
    "        return bytes >= 0\n",
    "    except ValueError:\n",
    "        return False\n",
    "\n",
    "# Check for invalid bytes transferred\n",
    "invalid_bytes = data[~data['bytes_transferred'].apply(is_valid_bytes)]\n",
    "print(invalid_bytes)"
   ]
  },
  {
   "cell_type": "code",
   "execution_count": 9,
   "id": "421307d2-3cc0-4633-bdf7-eeef4b990c32",
   "metadata": {},
   "outputs": [
    {
     "name": "stdout",
     "output_type": "stream",
     "text": [
      "    log_id      source_ip destination_port protocol bytes_transferred  \\\n",
      "0       10     10.0.0.100      STRING_PORT      FTP              4096   \n",
      "34      35  192.168.1.200      STRING_PORT      FTP              4096   \n",
      "51      52   10.10.10.450      STRING_PORT      FTP              4096   \n",
      "67      68    10.10.10.77      STRING_PORT      FTP              4096   \n",
      "\n",
      "   threat_level  \n",
      "0             ?  \n",
      "34            ?  \n",
      "51            ?  \n",
      "67            ?  \n"
     ]
    }
   ],
   "source": [
    "def is_valid_threat_level(threat_level):\n",
    "    try:\n",
    "        threat_level = int(threat_level)\n",
    "        return 0 <= threat_level <= 2\n",
    "    except ValueError:\n",
    "        return False\n",
    "\n",
    "# Check for invalid threat levels\n",
    "invalid_threat_levels = data[~data['threat_level'].apply(is_valid_threat_level)]\n",
    "print(invalid_threat_levels)"
   ]
  },
  {
   "cell_type": "code",
   "execution_count": 10,
   "id": "2a45838f-3c30-44a9-a426-85692ebfebdc",
   "metadata": {},
   "outputs": [
    {
     "name": "stdout",
     "output_type": "stream",
     "text": [
      "            log_id     source_ip destination_port protocol bytes_transferred  \\\n",
      "count    77.000000            77               77       77                77   \n",
      "unique         NaN            68                6        9                73   \n",
      "top            NaN  192.168.1.55               80     HTTP              1024   \n",
      "freq           NaN             3               22       22                 4   \n",
      "mean     46.519481           NaN              NaN      NaN               NaN   \n",
      "std      28.591317           NaN              NaN      NaN               NaN   \n",
      "min       1.000000           NaN              NaN      NaN               NaN   \n",
      "25%      22.000000           NaN              NaN      NaN               NaN   \n",
      "50%      45.000000           NaN              NaN      NaN               NaN   \n",
      "75%      70.000000           NaN              NaN      NaN               NaN   \n",
      "max     100.000000           NaN              NaN      NaN               NaN   \n",
      "\n",
      "       threat_level  \n",
      "count            77  \n",
      "unique            3  \n",
      "top               1  \n",
      "freq             26  \n",
      "mean            NaN  \n",
      "std             NaN  \n",
      "min             NaN  \n",
      "25%             NaN  \n",
      "50%             NaN  \n",
      "75%             NaN  \n",
      "max             NaN  \n"
     ]
    }
   ],
   "source": [
    "# the ignore errors covers the fact that there might be some overlap between indexes that match other invalid criteria\n",
    "data = data.drop(invalid_ips.index, errors='ignore') \n",
    "data = data.drop(invalid_ports.index, errors='ignore')\n",
    "data = data.drop(invalid_protocols.index, errors='ignore')\n",
    "data = data.drop(invalid_bytes.index, errors='ignore')\n",
    "data = data.drop(invalid_threat_levels.index, errors='ignore')\n",
    "\n",
    "print(data.describe(include='all'))"
   ]
  },
  {
   "cell_type": "code",
   "execution_count": 11,
   "id": "3abee158-6ba5-4ab5-a696-1048cf329322",
   "metadata": {},
   "outputs": [],
   "source": [
    "import pandas as pd\n",
    "import numpy as np\n",
    "import re\n",
    "from ipaddress import ip_address\n",
    "\n",
    "df = pd.read_csv('demo_dataset.csv')\n",
    "\n",
    "invalid_ips = ['INVALID_IP', 'MISSING_IP']\n",
    "invalid_ports = ['STRING_PORT', 'UNUSED_PORT']\n",
    "invalid_bytes = ['NON_NUMERIC', 'NEGATIVE']\n",
    "invalid_threat = ['?']\n",
    "\n",
    "df.replace(invalid_ips + invalid_ports + invalid_bytes + invalid_threat, np.nan, inplace=True)\n",
    "\n",
    "df['destination_port'] = pd.to_numeric(df['destination_port'], errors='coerce')\n",
    "df['bytes_transferred'] = pd.to_numeric(df['bytes_transferred'], errors='coerce')\n",
    "df['threat_level'] = pd.to_numeric(df['threat_level'], errors='coerce')\n",
    "\n",
    "def is_valid_ip(ip):\n",
    "    pattern = re.compile(r'^((25[0-5]|2[0-4][0-9]|[01]?\\d?\\d)\\.){3}(25[0-5]|2[0-4]\\d|[01]?\\d?\\d)$')\n",
    "    if pd.isna(ip) or not pattern.match(str(ip)):\n",
    "        return np.nan\n",
    "    return ip\n",
    "\n",
    "df['source_ip'] = df['source_ip'].apply(is_valid_ip)"
   ]
  },
  {
   "cell_type": "code",
   "execution_count": 12,
   "id": "b9c1e4cf-30ae-430f-8fdf-d012be048530",
   "metadata": {},
   "outputs": [],
   "source": [
    "from sklearn.impute import SimpleImputer\n",
    "\n",
    "numeric_cols = ['destination_port', 'bytes_transferred', 'threat_level']\n",
    "categorical_cols = ['protocol']\n",
    "\n",
    "num_imputer = SimpleImputer(strategy='median')\n",
    "df[numeric_cols] = num_imputer.fit_transform(df[numeric_cols])\n",
    "\n",
    "cat_imputer = SimpleImputer(strategy='most_frequent')\n",
    "df[categorical_cols] = cat_imputer.fit_transform(df[categorical_cols])"
   ]
  },
  {
   "cell_type": "code",
   "execution_count": 13,
   "id": "b1e7d339-3a5f-4025-ae54-3637cd6a3530",
   "metadata": {},
   "outputs": [],
   "source": [
    "from sklearn.impute import KNNImputer\n",
    "\n",
    "knn_imputer = KNNImputer(n_neighbors=5)\n",
    "df[numeric_cols] = knn_imputer.fit_transform(df[numeric_cols])"
   ]
  },
  {
   "cell_type": "code",
   "execution_count": 14,
   "id": "45618e9c-2b90-4238-aeee-868627c1208b",
   "metadata": {},
   "outputs": [],
   "source": [
    "valid_protocols = ['TCP', 'TLS', 'SSH', 'POP3', 'DNS', 'HTTPS', 'SMTP', 'FTP', 'UDP', 'HTTP']\n",
    "df.loc[~df['protocol'].isin(valid_protocols), 'protocol'] = df['protocol'].mode()[0]\n",
    "\n",
    "df['source_ip'] = df['source_ip'].fillna('0.0.0.0')\n",
    "df['destination_port'] = df['destination_port'].clip(lower=0, upper=65535)"
   ]
  },
  {
   "cell_type": "code",
   "execution_count": 15,
   "id": "0bcfa142-d1d3-46c4-a504-0d19f7d08645",
   "metadata": {},
   "outputs": [
    {
     "name": "stdout",
     "output_type": "stream",
     "text": [
      "            log_id source_ip  destination_port protocol  bytes_transferred  \\\n",
      "count   100.000000       100        100.000000      100          100.00000   \n",
      "unique         NaN        76               NaN        9                NaN   \n",
      "top            NaN   0.0.0.0               NaN     HTTP                NaN   \n",
      "freq           NaN        15               NaN       27                NaN   \n",
      "mean     50.500000       NaN        776.860000      NaN         4138.64000   \n",
      "std      29.011492       NaN       6542.582099      NaN         2526.40978   \n",
      "min       1.000000       NaN         22.000000      NaN          498.00000   \n",
      "25%      25.750000       NaN         53.000000      NaN         1693.25000   \n",
      "50%      50.500000       NaN         80.000000      NaN         4096.00000   \n",
      "75%      75.250000       NaN        110.000000      NaN         5971.75000   \n",
      "max     100.000000       NaN      65535.000000      NaN         9765.00000   \n",
      "\n",
      "        threat_level  \n",
      "count     100.000000  \n",
      "unique           NaN  \n",
      "top              NaN  \n",
      "freq             NaN  \n",
      "mean        0.930000  \n",
      "std         0.781801  \n",
      "min         0.000000  \n",
      "25%         0.000000  \n",
      "50%         1.000000  \n",
      "75%         2.000000  \n",
      "max         2.000000  \n"
     ]
    }
   ],
   "source": [
    "print(df.describe(include='all'))"
   ]
  },
  {
   "cell_type": "code",
   "execution_count": 16,
   "id": "72c0cda5-f494-403a-a814-8d1cd4fd59ff",
   "metadata": {},
   "outputs": [],
   "source": [
    "from sklearn.preprocessing import OneHotEncoder\n",
    "\n",
    "encoder = OneHotEncoder(handle_unknown='ignore', sparse_output=False)\n",
    "encoded = encoder.fit_transform(df[['protocol']])\n",
    "\n",
    "encoded_df = pd.DataFrame(encoded, columns=encoder.get_feature_names_out(['protocol']))\n",
    "df = pd.concat([df.drop('protocol', axis=1), encoded_df], axis=1)"
   ]
  },
  {
   "cell_type": "code",
   "execution_count": 17,
   "id": "cda848b8-879f-42d0-bb85-76b895f1bced",
   "metadata": {},
   "outputs": [],
   "source": [
    "import numpy as np\n",
    "\n",
    "# Apply logarithmic transformation to a skewed feature to reduce its skewness\n",
    "df[\"bytes_transferred\"] = np.log1p(df[\"bytes_transferred\"])  # Add 1 to avoid log(0)"
   ]
  },
  {
   "cell_type": "code",
   "execution_count": 18,
   "id": "090fa911-a84f-4150-a490-2b5e317cdef2",
   "metadata": {},
   "outputs": [],
   "source": [
    "from sklearn.model_selection import train_test_split\n",
    "\n",
    "# Separate features (X) and target (y)\n",
    "X = df.drop(\"threat_level\", axis=1)\n",
    "y = df[\"threat_level\"]\n",
    "\n",
    "# Initial split: 80% training, 20% testing\n",
    "X_train, X_test, y_train, y_test = train_test_split(X, y, test_size=0.2, random_state=1337)\n",
    "\n",
    "# Second split: from the 80% training portion, allocate 60% for final training and 20% for validation\n",
    "X_train, X_val, y_train, y_val = train_test_split(X_train, y_train, test_size=0.25, random_state=1337)"
   ]
  },
  {
   "cell_type": "code",
   "execution_count": null,
   "id": "68e28c31-0ebf-48be-a3bf-7978fcb0bfff",
   "metadata": {},
   "outputs": [],
   "source": []
  }
 ],
 "metadata": {
  "kernelspec": {
   "display_name": "Python 3 (ipykernel)",
   "language": "python",
   "name": "python3"
  },
  "language_info": {
   "codemirror_mode": {
    "name": "ipython",
    "version": 3
   },
   "file_extension": ".py",
   "mimetype": "text/x-python",
   "name": "python",
   "nbconvert_exporter": "python",
   "pygments_lexer": "ipython3",
   "version": "3.11.6"
  }
 },
 "nbformat": 4,
 "nbformat_minor": 5
}
